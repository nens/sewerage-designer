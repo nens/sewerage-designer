{
 "cells": [
  {
   "cell_type": "code",
   "execution_count": 5,
   "metadata": {},
   "outputs": [],
   "source": [
    "import requests\n",
    "import json"
   ]
  },
  {
   "cell_type": "code",
   "execution_count": 2,
   "metadata": {},
   "outputs": [],
   "source": [
    "HEADERS = {\n",
    "    \"username\": \"__key__\",\n",
    "    \"password\": \"4ZH85ylR.zrvMyf5LfyvxBpOGcWHqrJX7cq01ffcJ\",\n",
    "    \"Content-Type\": \"application/json\",\n",
    "}\n"
   ]
  },
  {
   "cell_type": "code",
   "execution_count": 14,
   "metadata": {},
   "outputs": [],
   "source": [
    "data= {\"type\": \"other\"}\n"
   ]
  },
  {
   "cell_type": "code",
   "execution_count": 17,
   "metadata": {},
   "outputs": [],
   "source": [
    "r = requests.patch('https://demo.lizard.net/api/v4/pumpstations/27557/', data=json.dumps(data), headers=HEADERS)"
   ]
  },
  {
   "cell_type": "code",
   "execution_count": 18,
   "metadata": {},
   "outputs": [
    {
     "data": {
      "text/plain": [
       "{'url': 'https://demo.lizard.net/api/v4/pumpstations/27557/',\n",
       " 'id': 27557,\n",
       " 'code': 'H5040',\n",
       " 'organisation': {'url': 'https://demo.lizard.net/api/v4/organisations/188a569b-f0ac-4e98-81db-499de07f7582/',\n",
       "  'uuid': '188a569b-f0ac-4e98-81db-499de07f7582',\n",
       "  'name': 'Zuiderzeeland'},\n",
       " 'geometry': {'type': 'Point', 'coordinates': [5.40204305, 52.4949805, 0.0]},\n",
       " 'last_modified': '2022-03-17T14:48:43.860524Z',\n",
       " 'created': '2021-02-19T04:49:55.145694Z',\n",
       " 'image_url': '',\n",
       " 'timeseries': ['https://demo.lizard.net/api/v4/timeseries/88483621-2e59-485f-8228-e7b6475d50f2/',\n",
       "  'https://demo.lizard.net/api/v4/timeseries/733c6fa5-73f4-4054-b03a-6decad90177d/',\n",
       "  'https://demo.lizard.net/api/v4/timeseries/8b18cf05-cfd4-4098-b604-ff2cdb9c8c44/',\n",
       "  'https://demo.lizard.net/api/v4/timeseries/adb3e31b-ae3f-4d15-9ca9-1319b80dd776/'],\n",
       " 'type': 'other',\n",
       " 'name': 'Hevel  Bovenwater',\n",
       " 'start_point': None,\n",
       " 'end_point': None,\n",
       " 'connection_serial': None,\n",
       " 'allowed_flow_direction': None,\n",
       " 'capacity': None,\n",
       " 'start_level': None,\n",
       " 'stop_level': None,\n",
       " 'start_level_delivery_side': None,\n",
       " 'stop_level_delivery_side': None}"
      ]
     },
     "execution_count": 18,
     "metadata": {},
     "output_type": "execute_result"
    }
   ],
   "source": [
    "r.json()"
   ]
  }
 ],
 "metadata": {
  "kernelspec": {
   "display_name": "Python 3",
   "language": "python",
   "name": "python3"
  },
  "language_info": {
   "codemirror_mode": {
    "name": "ipython",
    "version": 3
   },
   "file_extension": ".py",
   "mimetype": "text/x-python",
   "name": "python",
   "nbconvert_exporter": "python",
   "pygments_lexer": "ipython3",
   "version": "3.8.6"
  }
 },
 "nbformat": 4,
 "nbformat_minor": 4
}
